{
 "cells": [
  {
   "cell_type": "code",
   "execution_count": 4,
   "metadata": {},
   "outputs": [
    {
     "data": {
      "image/png": "[encoded data removed]",
      "text/plain": [
       "<Figure size 640x480 with 1 Axes>"
      ]
     },
     "metadata": {},
     "output_type": "display_data"
    }
   ],
   "source": [
    "import numpy as np\n",
    "import scipy\n",
    "import matplotlib\n",
    "import matplotlib.pyplot as plt\n",
    "import pandas as pd\n",
    "\n",
    "def func(x):\n",
    "    return x**2 + 5\n",
    "\n",
    "\n",
    "input1 = np.linspace(-1, 1, 100)\n",
    "y1 = func(input1)\n",
    "plt.plot(input1, y1, 'go', label='x>-1, x<1', linewidth=2)\n",
    "\n",
    "input2 = np.linspace(-6, 6, 100)\n",
    "y2 = func(input2)\n",
    "plt.plot(input2, y2, 'r*', label='x>-6, x<6', linewidth=2)\n",
    "\n",
    "input3 = np.linspace(0, 5, 100)\n",
    "y3 = func(input3)\n",
    "plt.plot(input3, y3, label='x>0, x<5', linewidth=2)\n",
    "\n",
    "plt.title(f'Wykres funkcji func')\n",
    "plt.legend()\n",
    "plt.show()"
   ]
  },
  {
   "cell_type": "code",
   "execution_count": 5,
   "metadata": {},
   "outputs": [
    {
     "name": "stdout",
     "output_type": "stream",
     "text": [
      "      Name Surname Age    Sex\n",
      "0    Piotr  Wolnik  22    man\n",
      "1   Angela     Kka  23  woman\n",
      "2  Michael  Jordan  50    man\n",
      "3   Davide     Bbb  34    man\n",
      "4   Joline     Fff  24  woman \n",
      "\n",
      "<class 'pandas.core.frame.DataFrame'>\n",
      "RangeIndex: 5 entries, 0 to 4\n",
      "Data columns (total 4 columns):\n",
      " #   Column   Non-Null Count  Dtype \n",
      "---  ------   --------------  ----- \n",
      " 0   Name     5 non-null      object\n",
      " 1   Surname  5 non-null      object\n",
      " 2   Age      5 non-null      object\n",
      " 3   Sex      5 non-null      object\n",
      "dtypes: object(4)\n",
      "memory usage: 288.0+ bytes\n",
      "\n",
      "\n",
      "<class 'pandas.core.frame.DataFrame'>\n",
      "RangeIndex: 5 entries, 0 to 4\n",
      "Columns: 4 entries, Name to Sex\n",
      "dtypes: object(4)\n",
      "memory usage: 288.0+ bytes\n",
      "\n",
      "\n",
      "\n",
      "\n"
     ]
    },
    {
     "data": {
      "text/html": [
       "<div>\n",
       "<style scoped>\n",
       "    .dataframe tbody tr th:only-of-type {\n",
       "        vertical-align: middle;\n",
       "    }\n",
       "\n",
       "    .dataframe tbody tr th {\n",
       "        vertical-align: top;\n",
       "    }\n",
       "\n",
       "    .dataframe thead th {\n",
       "        text-align: right;\n",
       "    }\n",
       "</style>\n",
       "<table border=\"1\" class=\"dataframe\">\n",
       "  <thead>\n",
       "    <tr style=\"text-align: right;\">\n",
       "      <th></th>\n",
       "      <th>Name</th>\n",
       "      <th>Surname</th>\n",
       "      <th>Age</th>\n",
       "      <th>Sex</th>\n",
       "    </tr>\n",
       "  </thead>\n",
       "  <tbody>\n",
       "    <tr>\n",
       "      <th>0</th>\n",
       "      <td>Piotr</td>\n",
       "      <td>Wolnik</td>\n",
       "      <td>22</td>\n",
       "      <td>man</td>\n",
       "    </tr>\n",
       "    <tr>\n",
       "      <th>1</th>\n",
       "      <td>Angela</td>\n",
       "      <td>Kka</td>\n",
       "      <td>23</td>\n",
       "      <td>woman</td>\n",
       "    </tr>\n",
       "    <tr>\n",
       "      <th>2</th>\n",
       "      <td>Michael</td>\n",
       "      <td>Jordan</td>\n",
       "      <td>50</td>\n",
       "      <td>man</td>\n",
       "    </tr>\n",
       "  </tbody>\n",
       "</table>\n",
       "</div>"
      ],
      "text/plain": [
       "      Name Surname Age    Sex\n",
       "0    Piotr  Wolnik  22    man\n",
       "1   Angela     Kka  23  woman\n",
       "2  Michael  Jordan  50    man"
      ]
     },
     "execution_count": 5,
     "metadata": {},
     "output_type": "execute_result"
    }
   ],
   "source": [
    "# Tworzę dane z \n",
    "data = np.array([(\"Piotr\", \"Wolnik\", 22, \"man\"),\n",
    "                 (\"Angela\", \"Kka\", 23, \"woman\"),\n",
    "                 (\"Michael\", \"Jordan\", 50, \"man\"),\n",
    "                 (\"Davide\", \"Bbb\", 34, \"man\"),\n",
    "                 (\"Joline\", \"Fff\", 24, \"woman\")\n",
    "])\n",
    "\n",
    "# Utworzenie data frame z rekordów\n",
    "data_frame = pd.DataFrame.from_records(data, columns=['Name', 'Surname', 'Age', 'Sex'])\n",
    "print(data_frame,'\\n')\n",
    "\n",
    "# Użycie funkcji info()\n",
    "data_frame.info(verbose=True)\n",
    "print(f'\\n')\n",
    "\n",
    "# Użycie funkcji describe()\n",
    "data_frame.info(verbose=False)\n",
    "print(f'\\n')\n",
    "\n",
    "\n",
    "data_frame.describe()\n",
    "print(f'\\n')\n",
    "\n",
    "data_frame.head(3)"
   ]
  }
 ],
 "metadata": {
  "kernelspec": {
   "display_name": "Python 3.9.13 ('piotrWolnikEnv')",
   "language": "python",
   "name": "python3"
  },
  "language_info": {
   "codemirror_mode": {
    "name": "ipython",
    "version": 3
   },
   "file_extension": ".py",
   "mimetype": "text/x-python",
   "name": "python",
   "nbconvert_exporter": "python",
   "pygments_lexer": "ipython3",
   "version": "3.9.13"
  },
  "orig_nbformat": 4,
  "vscode": {
   "interpreter": {
    "hash": "8b961974ad4ef4e9f10a2d35f3acfea3e95e30d45f0f29715df8e4abc6643e5a"
   }
  }
 },
 "nbformat": 4,
 "nbformat_minor": 2
}
