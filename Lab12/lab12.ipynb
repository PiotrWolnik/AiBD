{
 "cells": [
  {
   "cell_type": "code",
   "execution_count": null,
   "metadata": {},
   "outputs": [],
   "source": [
    "from sqlalchemy import create_engine\n",
    "from sqlalchemy.ext.declarative import declarative_base\n",
    "import pandas as pd\n",
    "from sqlalchemy.orm import sessionmaker\n",
    "from sqlalchemy import Column, Integer, String, Date, Float, Text,VARCHAR\n",
    "from sqlalchemy import ForeignKey\n",
    "\n",
    "db_string = \"postgresql://postgres@localhost/lab12\"\n",
    "\n",
    "engine = create_engine(db_string)\n",
    "Session = sessionmaker(bind=engine)\n",
    "Base = declarative_base()\n",
    "\n",
    "class Users(Base):\n",
    "    __tablename__ = 'users'\n",
    "    id = Column(Integer, primary_key = True)\n",
    "    email = Column(VARCHAR(50))\n",
    "\n",
    "class Hosts(Base):\n",
    "    __tablename__ = 'hosts'\n",
    "    id = Column(Integer, primary_key = True)\n",
    "    id_users = Column(Integer, ForeignKey('users.id'))\n",
    "\n",
    "class Countries(Base):\n",
    "    __tablename__ = 'countries'\n",
    "    id = Column(Integer, primary_key = True)\n",
    "    country_code = Column(VARCHAR(50))\n",
    "    name = Column(VARCHAR(50))\n",
    "\n",
    "class Cities(Base):\n",
    "    __tablename__ = 'cities'\n",
    "    id = Column(Integer, primary_key = True)\n",
    "    name = Column(VARCHAR(50))\n",
    "    country_id = Column(Integer, ForeignKey('countries.id'))\n",
    "\n",
    "class Places(Base):\n",
    "    __tablename__ = 'places'\n",
    "    id = Column(Integer, primary_key = True)\n",
    "    hosts_id = Column(Integer, ForeignKey('hosts.id'))\n",
    "    adress = Column(VARCHAR(50))\n",
    "    city_id = Column(Integer, ForeignKey('cities.id'))\n",
    "\n",
    "class Bookings(Base):\n",
    "    __tablename__ = 'bookings'\n",
    "    id = Column(Integer, primary_key = True)\n",
    "    user_id = Column(Integer, ForeignKey('users.id'))\n",
    "    place_id = Column(Integer, ForeignKey('places.id'))\n",
    "    start_date = Column(Date)\n",
    "    end_date = Column(Date)\n",
    "    price_per_night = Column(Float)\n",
    "    num_nights = Column(Integer)\n",
    "\n",
    "class Reviews(Base):\n",
    "    __tablename__ = 'reviews'\n",
    "    id = Column(Integer, primary_key = True)\n",
    "    booking_id = Column(Integer, ForeignKey('bookings.id'))\n",
    "    rating = Column(Integer)\n",
    "    review_body = Column(Text)\n",
    "\n",
    "Base.metadata.tables.keys()\n",
    "Base.metadata.create_all(engine)"
   ]
  }
 ],
 "metadata": {
  "kernelspec": {
   "display_name": "piotrWolnikEnv",
   "language": "python",
   "name": "python3"
  },
  "language_info": {
   "name": "python",
   "version": "3.10.8 (main, Nov 24 2022, 14:13:03) [GCC 11.2.0]"
  },
  "orig_nbformat": 4,
  "vscode": {
   "interpreter": {
    "hash": "5246796949cf256fe19d0bc8c35a747bc0d085f62caef7d9f83dbf69c0db7d72"
   }
  }
 },
 "nbformat": 4,
 "nbformat_minor": 2
}
